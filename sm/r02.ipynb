{
 "cells": [
  {
   "cell_type": "markdown",
   "metadata": {},
   "source": [
    "# Software en Matemáticas\n",
    "## Jesús Bueno Urbano - 20078941X"
   ]
  },
  {
   "cell_type": "markdown",
   "metadata": {},
   "source": [
    "**Ejercicio 1**\n",
    "<br>Implemente una función que reproduzca el juego de acertar un número natural generado aleatoriamente en un rango predefinido."
   ]
  },
  {
   "cell_type": "markdown",
   "metadata": {},
   "source": [
    "**Ejercicio 2**\n",
    "<br>Construya una función que dado un entero `n` proporcione su expresión en base 2."
   ]
  },
  {
   "cell_type": "code",
   "execution_count": null,
   "metadata": {},
   "outputs": [],
   "source": [
    "def binario(n):\n",
    "    resto"
   ]
  },
  {
   "cell_type": "markdown",
   "metadata": {},
   "source": [
    "**Ejercicio 3**\n",
    "<br>Repita el ejercicio anterior programando con funciones lambda y de forma concisa."
   ]
  },
  {
   "cell_type": "markdown",
   "metadata": {},
   "source": [
    "**Ejercicio 4**\n",
    "<br>Recicle el código de `prodCR` y `prodRCR` para obtener respectivamente `expCR` y `expRCR` y que calcule la exponenciación rápida no recursivamente y recursivamente."
   ]
  },
  {
   "cell_type": "markdown",
   "metadata": {},
   "source": [
    "**Ejercicio 5**\n",
    "<br>Dar una implementación del algoritmo de exponenenciación rápida, digamos en una función llamada `expCRL`, mediante expresiones lambda y programación concisa."
   ]
  },
  {
   "cell_type": "markdown",
   "metadata": {},
   "source": [
    "**Ejercicio 6**\n",
    "<br>Recicle el código de la función `gcd` para que ofrezca el máximo común divisor de dos números enteros y unos coeficientes de Bezout para ellos."
   ]
  },
  {
   "cell_type": "markdown",
   "metadata": {},
   "source": [
    "**Ejercicio 7**\n",
    "<br>Implemente el cifrado afín y su ataque a fuerza bruta."
   ]
  }
 ],
 "metadata": {
  "kernelspec": {
   "display_name": "Python 3",
   "language": "python",
   "name": "python3"
  },
  "language_info": {
   "codemirror_mode": {
    "name": "ipython",
    "version": 3
   },
   "file_extension": ".py",
   "mimetype": "text/x-python",
   "name": "python",
   "nbconvert_exporter": "python",
   "pygments_lexer": "ipython3",
   "version": "3.5.2"
  }
 },
 "nbformat": 4,
 "nbformat_minor": 2
}
