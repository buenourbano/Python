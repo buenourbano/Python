{
 "cells": [
  {
   "cell_type": "markdown",
   "metadata": {},
   "source": [
    "# Mensajes vs listas de números en hexadecimal"
   ]
  },
  {
   "cell_type": "markdown",
   "metadata": {},
   "source": [
    "En esta práctica vamos a trabajar con cadenas de texto, strings, vamos a empezar transformando una cadena de texto en una lista de números en hexadecimal y viceversa.\n",
    "Al asociar una lista de números a un texto podremos trabajar con esta listas realizando operaciones matemáticas, esto nos permitirá por ejemplo codificar el texto."
   ]
  },
  {
   "cell_type": "markdown",
   "metadata": {},
   "source": [
    "Vamos a empezar definiendo una función que asocie a un mensaje una lista de números en hexadecimal y otra función en sentido opuesto. "
   ]
  },
  {
   "cell_type": "markdown",
   "metadata": {},
   "source": [
    "Las funciones <span style=\"color:green\">encode</span> y <span style=\"color:green\">decode</span>"
   ]
  },
  {
   "cell_type": "code",
   "execution_count": 1,
   "metadata": {},
   "outputs": [],
   "source": [
    "mensaje = 'Hola, ¿cómo estás?'"
   ]
  },
  {
   "cell_type": "code",
   "execution_count": 2,
   "metadata": {},
   "outputs": [
    {
     "name": "stdout",
     "output_type": "stream",
     "text": [
      "Hola, ¿cómo estás?\n"
     ]
    }
   ],
   "source": [
    "print(mensaje)"
   ]
  },
  {
   "cell_type": "code",
   "execution_count": 3,
   "metadata": {},
   "outputs": [
    {
     "data": {
      "text/plain": [
       "str"
      ]
     },
     "execution_count": 3,
     "metadata": {},
     "output_type": "execute_result"
    }
   ],
   "source": [
    "type(mensaje)"
   ]
  },
  {
   "cell_type": "markdown",
   "metadata": {},
   "source": [
    "Si preguntamos por el símbolo en el lugar 0 de mensaje obtenemos"
   ]
  },
  {
   "cell_type": "code",
   "execution_count": 4,
   "metadata": {},
   "outputs": [
    {
     "data": {
      "text/plain": [
       "'H'"
      ]
     },
     "execution_count": 4,
     "metadata": {},
     "output_type": "execute_result"
    }
   ],
   "source": [
    "mensaje[0]"
   ]
  },
  {
   "cell_type": "markdown",
   "metadata": {},
   "source": [
    "Si preguntamos por el símbolo en el lugar 6"
   ]
  },
  {
   "cell_type": "code",
   "execution_count": 5,
   "metadata": {},
   "outputs": [
    {
     "data": {
      "text/plain": [
       "'¿'"
      ]
     },
     "execution_count": 5,
     "metadata": {},
     "output_type": "execute_result"
    }
   ],
   "source": [
    "mensaje[6]"
   ]
  },
  {
   "cell_type": "code",
   "execution_count": 6,
   "metadata": {},
   "outputs": [
    {
     "name": "stdout",
     "output_type": "stream",
     "text": [
      "¿\n"
     ]
    }
   ],
   "source": [
    "print (mensaje[6])"
   ]
  },
  {
   "cell_type": "markdown",
   "metadata": {},
   "source": [
    "Esto funciona bien con Python 3.x pero no va igual de bien en Python 2.x. "
   ]
  },
  {
   "cell_type": "markdown",
   "metadata": {},
   "source": [
    "Podemos asociar una cadena hexadecimal al mensaje con la función <span style=\"color:green\">encode</span> y la variable <span style=\"color:green\">'hex'</span>"
   ]
  },
  {
   "cell_type": "code",
   "execution_count": 7,
   "metadata": {},
   "outputs": [],
   "source": [
    "mc=mensaje.encode(\"utf-8\").hex()"
   ]
  },
  {
   "cell_type": "code",
   "execution_count": 8,
   "metadata": {},
   "outputs": [
    {
     "data": {
      "text/plain": [
       "'486f6c612c20c2bf63c3b36d6f20657374c3a1733f'"
      ]
     },
     "execution_count": 8,
     "metadata": {},
     "output_type": "execute_result"
    }
   ],
   "source": [
    "mc"
   ]
  },
  {
   "cell_type": "markdown",
   "metadata": {},
   "source": [
    "El proceso inverso lo podemos hacer así"
   ]
  },
  {
   "cell_type": "code",
   "execution_count": 9,
   "metadata": {},
   "outputs": [
    {
     "data": {
      "text/plain": [
       "'Hola, ¿cómo estás?'"
      ]
     },
     "execution_count": 9,
     "metadata": {},
     "output_type": "execute_result"
    }
   ],
   "source": [
    "bytes.fromhex(mc).decode('utf-8')"
   ]
  },
  {
   "cell_type": "markdown",
   "metadata": {},
   "source": [
    "Si el mensaje que tenemos es muy largo, el número hexadecimal que obtenemos con la función <span style=\"color:green\">encode</span> es demasiado grande. \n",
    "\n",
    "Para hacer viable el proceso de codificación vamos a dividir cada mensaje en trozos, uno para cada palabra. Aplicaremos la función <span style=\"color:green\">encode</span> a cada palabra en lugar de al mensaje completo."
   ]
  },
  {
   "cell_type": "markdown",
   "metadata": {},
   "source": [
    "**Ejercicio 1:** Define una función <span style=\"color:red\">lista_palabras(mensaje)</span> que asocie a un mensaje (cadena) una lista (de cadenas) con cada una de las palabras del mensaje. Si la palabra está precedida o seguida por un símbolo de puntuación, admiración, interrogación, etc. integraremos dicho símbolo a la palabra.\n",
    "\n",
    "Por ejemplo queremos que nuestra función <span style=\"color:red\">lista_palabras</span> aplicada a nuestro mensaje <span style=\"color:blue\">'Hola, ¿cómo estás?'</span> produzca la lista <span style=\"color:blue\">['Hola,', '¿cómo', 'estás?']</span>."
   ]
  },
  {
   "cell_type": "code",
   "execution_count": 10,
   "metadata": {},
   "outputs": [],
   "source": [
    "#Ejercicio 1\n",
    "\n",
    "def lista_palabras(msg):\n",
    "    lista, j, n= [], 0, len(msg)\n",
    "    for i in range(n):\n",
    "        if msg[i]==' ':\n",
    "            lista.append(msg[j:i])\n",
    "            j=i+1\n",
    "        elif i==n-1:\n",
    "            lista.append(msg[j:n])\n",
    "    return lista"
   ]
  },
  {
   "cell_type": "code",
   "execution_count": 11,
   "metadata": {},
   "outputs": [
    {
     "data": {
      "text/plain": [
       "['Hola,', '¿cómo', 'estás?']"
      ]
     },
     "execution_count": 11,
     "metadata": {},
     "output_type": "execute_result"
    }
   ],
   "source": [
    "lista_palabras(mensaje)"
   ]
  },
  {
   "cell_type": "markdown",
   "metadata": {},
   "source": [
    "- **Ejercicio 2:** Define una función <span style=\"color:red\">str_to_hexalist(mensaje)</span> que a un mensaje le asocie la lista de números en hexadecimal correspondiente a cada palabra del mensaje.\n",
    "- **Ejercicio 3:** Define una función <span style=\"color:red\">hexalist_to_str(lista)</span> que sea la inversa de la función <span style=\"color:red\">str_to_hexalist(mensaje)</span> definida en el ejercicio 2.\n"
   ]
  },
  {
   "cell_type": "code",
   "execution_count": 12,
   "metadata": {},
   "outputs": [],
   "source": [
    "#Ejercicio 2\n",
    "\n",
    "def str_to_hexalist(msg):\n",
    "    lista = lista_palabras(msg)\n",
    "    return [lista[i].encode(\"utf-8\").hex() for i in range(len(lista))]"
   ]
  },
  {
   "cell_type": "code",
   "execution_count": 13,
   "metadata": {},
   "outputs": [
    {
     "data": {
      "text/plain": [
       "['486f6c612c', 'c2bf63c3b36d6f', '657374c3a1733f']"
      ]
     },
     "execution_count": 13,
     "metadata": {},
     "output_type": "execute_result"
    }
   ],
   "source": [
    "lista=str_to_hexalist(mensaje)\n",
    "lista"
   ]
  },
  {
   "cell_type": "code",
   "execution_count": 14,
   "metadata": {},
   "outputs": [],
   "source": [
    "#Ejercicio 3\n",
    "def hexalist_to_str(lista):\n",
    "    listap = [bytes.fromhex(x).decode('utf-8') for x in lista]\n",
    "    mensaje = ''\n",
    "    for x in listap:\n",
    "        mensaje += x + ' '\n",
    "    return mensaje[:-1]"
   ]
  },
  {
   "cell_type": "code",
   "execution_count": 15,
   "metadata": {},
   "outputs": [
    {
     "data": {
      "text/plain": [
       "'Hola, ¿cómo estás?'"
      ]
     },
     "execution_count": 15,
     "metadata": {},
     "output_type": "execute_result"
    }
   ],
   "source": [
    "hexalist_to_str(lista)"
   ]
  },
  {
   "cell_type": "markdown",
   "metadata": {},
   "source": [
    "# Hex vs int"
   ]
  },
  {
   "cell_type": "markdown",
   "metadata": {},
   "source": [
    "Hemos asociado a un mensaje una lista de números en hexadecimal, vamos a transformar estos en números en decimal. Tambien haremos el proceso inverso."
   ]
  },
  {
   "cell_type": "code",
   "execution_count": 16,
   "metadata": {},
   "outputs": [
    {
     "data": {
      "text/plain": [
       "['486f6c612c', 'c2bf63c3b36d6f', '657374c3a1733f']"
      ]
     },
     "execution_count": 16,
     "metadata": {},
     "output_type": "execute_result"
    }
   ],
   "source": [
    "lista"
   ]
  },
  {
   "cell_type": "code",
   "execution_count": 17,
   "metadata": {},
   "outputs": [
    {
     "data": {
      "text/plain": [
       "311107019052"
      ]
     },
     "execution_count": 17,
     "metadata": {},
     "output_type": "execute_result"
    }
   ],
   "source": [
    "n=int('486f6c612c',16)\n",
    "n"
   ]
  },
  {
   "cell_type": "code",
   "execution_count": 18,
   "metadata": {},
   "outputs": [
    {
     "data": {
      "text/plain": [
       "'0x486f6c612c'"
      ]
     },
     "execution_count": 18,
     "metadata": {},
     "output_type": "execute_result"
    }
   ],
   "source": [
    "hex(n)"
   ]
  },
  {
   "cell_type": "code",
   "execution_count": 19,
   "metadata": {},
   "outputs": [
    {
     "data": {
      "text/plain": [
       "'486f6c612c'"
      ]
     },
     "execution_count": 19,
     "metadata": {},
     "output_type": "execute_result"
    }
   ],
   "source": [
    "hex(n)[2:]"
   ]
  },
  {
   "cell_type": "markdown",
   "metadata": {},
   "source": [
    "# Codificación y decodificación de textos."
   ]
  },
  {
   "cell_type": "markdown",
   "metadata": {},
   "source": [
    "** Ejercicio 4:** He partido de un mensaje, que es un dato tipo str de python, a partir de este he usado la función <span style=\"color:red\">str_to_hexalist(mensaje)</span> para obtener una lista de números en hexadecimal, he transformado esos números hexadecimales en enteros obteniendo una lista de enteros que voy a llamar lista_enteros. Con cada entero $x$ en lista_enteros he hecho lo siguiente:\n",
    "- Si la posición de $x$ en lista_enteros es par cambio $x$ por $a*x+b \\mod n$, que con notación de python sería $(a*x+b)\\%n$.\n",
    "- Si la posición de $x$ en lista_enteros es impar cambio $x$ por $x^e \\mod n$, que con notación de python sería $pow(x,e,n)$.\n",
    "\n",
    "Donde \n",
    "$$\n",
    "\\begin{array}{l}\n",
    "n=7769175883029739399779090779769752104679043\\\\\n",
    "a=1234567891\\\\\n",
    "b= 1324567\\\\\n",
    "e=12343\n",
    "\\end{array}\n",
    "$$\n",
    "\n",
    "La lista que he obtenido mediante este procedimiento es la siguiente"
   ]
  },
  {
   "cell_type": "code",
   "execution_count": 20,
   "metadata": {},
   "outputs": [],
   "source": [
    "mensaje_encriptado = [24139507297290,\n",
    " 6725190704047113967254872671592480956480846,\n",
    " 9023324530888402180545003018,\n",
    " 4236664862764070725995534648053425828014859,\n",
    " 2264514957876165920756375344650,\n",
    " 2277808490581964729185196601633306523269138,\n",
    " 34253087460362,\n",
    " 2881725582158631499306689380687876408870125,\n",
    " 8045172774136257,\n",
    " 1506202819392251264898752014471956870805642,\n",
    " 9023324530888402180545003018,\n",
    " 6025721073355027979355512439945406931958209,\n",
    " 9726017737715757272908740468580083455717,\n",
    " 3823176214898299196630918018315680897875984,\n",
    " 8668546067049488749163771872,\n",
    " 2881725582158631499306689380687876408870125,\n",
    " 611796386886233926593,\n",
    " 6290113892129276384150206224125903284119291,\n",
    " 149384039378,\n",
    " 5946199315172085617543278232748260816464724,\n",
    " 8668546067049488749163771872,\n",
    " 2881725582158631499306689380687876408870125,\n",
    " 611796386886233926593,\n",
    " 7145886409554790397618936384555770412147027,\n",
    " 8773356718716896,\n",
    " 2881725582158631499306689380687876408870125,\n",
    " 33846513075343088231276481,\n",
    " 7665820783910865555217482713082027589161660,\n",
    " 9179778937569878,\n",
    " 5514294518298965601697327301062345253279439,\n",
    " 137038360468,\n",
    " 7260170221585532100329607910702001294793466,\n",
    " 10003285285108576922441228042,\n",
    " 5330781652608831073100692851799959165707199,\n",
    " 152621886294706528761290,\n",
    " 7062368452991629040209431166219680535105131,\n",
    " 10176693299612415973990796180,\n",
    " 6315796533563869427905692109616213308940080,\n",
    " 8768932027395552,\n",
    " 4293997930072609554003053421780201588500269,\n",
    " 23424186448328123599075808,\n",
    " 1199124813299738993843086222078883958856105]"
   ]
  },
  {
   "cell_type": "markdown",
   "metadata": {},
   "source": [
    "¿Cual es el mensaje de partida?"
   ]
  },
  {
   "cell_type": "markdown",
   "metadata": {
    "collapsed": true
   },
   "source": [
    "**Nota:** Para hacer el ejercicio 4 necesitarás utilizar el algoritmo extendido de Euclides y la función totent tambien de Euclides. Estas funciones están implemetadas en el módulo sympy con los nombres <span style=\"color:green\">gcdex</span> y <span style=\"color:green\">totient</span>. Así que importa sympy y utiliza esas funciones."
   ]
  },
  {
   "cell_type": "code",
   "execution_count": 21,
   "metadata": {},
   "outputs": [],
   "source": [
    "n=7769175883029739399779090779769752104679043\n",
    "a=1234567891\n",
    "b= 1324567\n",
    "e=12343"
   ]
  },
  {
   "cell_type": "code",
   "execution_count": 1,
   "metadata": {},
   "outputs": [],
   "source": [
    "from sympy import *"
   ]
  },
  {
   "cell_type": "code",
   "execution_count": 2,
   "metadata": {},
   "outputs": [
    {
     "data": {
      "text/plain": [
       "(-1, 1, 2)"
      ]
     },
     "execution_count": 2,
     "metadata": {},
     "output_type": "execute_result"
    }
   ],
   "source": [
    "gcdex(4,6)"
   ]
  },
  {
   "cell_type": "code",
   "execution_count": 3,
   "metadata": {},
   "outputs": [
    {
     "data": {
      "text/plain": [
       "616"
      ]
     },
     "execution_count": 3,
     "metadata": {},
     "output_type": "execute_result"
    }
   ],
   "source": [
    "totient(1234)"
   ]
  },
  {
   "cell_type": "code",
   "execution_count": null,
   "metadata": {},
   "outputs": [],
   "source": [
    "def codificar_pares(x, a, b, n):\n",
    "    return (a*x + b)%n\n",
    "\n",
    "def codificar_impares(x, e, n):\n",
    "    return pow(x, e, n)"
   ]
  },
  {
   "cell_type": "code",
   "execution_count": null,
   "metadata": {},
   "outputs": [],
   "source": [
    "def decodificar_pares(y, a, b, n):\n",
    "    mcd = gcdex(a,n)\n",
    "    if mcd[2] != 1:\n",
    "        print (\"Error: a y n no son primos relativos.\")\n",
    "    else:\n",
    "        a_inv = mcd[0] % n\n",
    "        return (a_inv * (y - b) )%n\n",
    "    \n",
    "def decodificar_impares(y,e,n):\n",
    "    f = totient(n)\n",
    "    if gcd(e,f) != 1:\n",
    "        print('Error: No son primos relativos.')\n",
    "    else:\n",
    "        u = int(gcdex(e,f)[0] % f)\n",
    "        return pow(y,u,n)"
   ]
  },
  {
   "cell_type": "code",
   "execution_count": null,
   "metadata": {},
   "outputs": [],
   "source": [
    "#Ejercicio 4\n",
    "def decodificar(lista,n,a,b,e):\n",
    "\n",
    "    longitud = len(lista)\n",
    "    #Hacemos una copia para que no se modifique la lista inicial\n",
    "    result = lista.copy()\n",
    "    \n",
    "    for i in range(longitud):\n",
    "        if i%2:\n",
    "            result[i] = decodificar_impares(result[i],e,n)\n",
    "        else:\n",
    "            result[i] = decodificar_pares(result[i],a,b,n)\n",
    "            \n",
    "    #Convertimos la lista de números enteros en una lista de números hexadecimales            \n",
    "    for i in range(longitud):\n",
    "        result[i] = hex(result[i])[2:]\n",
    "    \n",
    "    #Convertimos la lista de números hexadecimales en un string usando la función definida en el Ejercicio 3\n",
    "    resultado = hexalist_to_str(result)    \n",
    "    return resultado\n",
    "        "
   ]
  },
  {
   "cell_type": "code",
   "execution_count": null,
   "metadata": {},
   "outputs": [],
   "source": [
    "decodificar(mensaje_encriptado,n,a,b,e)"
   ]
  }
 ],
 "metadata": {
  "kernelspec": {
   "display_name": "Python 3",
   "language": "python",
   "name": "python3"
  },
  "language_info": {
   "codemirror_mode": {
    "name": "ipython",
    "version": 3
   },
   "file_extension": ".py",
   "mimetype": "text/x-python",
   "name": "python",
   "nbconvert_exporter": "python",
   "pygments_lexer": "ipython3",
   "version": "3.5.2"
  }
 },
 "nbformat": 4,
 "nbformat_minor": 1
}
