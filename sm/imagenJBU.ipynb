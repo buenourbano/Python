{
 "cells": [
  {
   "cell_type": "markdown",
   "metadata": {},
   "source": [
    "# Trabajemos con imágenes"
   ]
  },
  {
   "cell_type": "markdown",
   "metadata": {},
   "source": [
    "En esta sesión vamos a trabajar con librerías:\n",
    "- PIL\n",
    "- numpy\n",
    "- random\n",
    "- statistcs\n",
    "- sympy\n",
    "\n",
    "Y nuestro objetivo será manejar imágenes.\n",
    "\n",
    "Si la instalación de Python es minimal es posible que alguna de estas librerías no estén instaladas. Comenzamos importando las funciones de estas librerías que nos interesan, si nos aparece algún error del tipo \"Pill no está instalado\" ejecutamos las líneas siguientes."
   ]
  },
  {
   "cell_type": "code",
   "execution_count": null,
   "metadata": {},
   "outputs": [],
   "source": [
    "#!pip3 install pillow --user\n",
    "#!pip3 install numpy --user\n",
    "#!pip3 install statistics --user\n",
    "#!pip3 install sympy --user\n",
    "# reiniciar núcleo"
   ]
  },
  {
   "cell_type": "code",
   "execution_count": null,
   "metadata": {
    "scrolled": true
   },
   "outputs": [],
   "source": [
    "from PIL import Image\n",
    "from numpy import *\n",
    "import random\n",
    "from statistics import *\n",
    "from sympy import *"
   ]
  },
  {
   "cell_type": "markdown",
   "metadata": {},
   "source": [
    "También importaré las funciones que he definido para daros una idea de que buscamos con los ejercicios propuestos."
   ]
  },
  {
   "cell_type": "code",
   "execution_count": null,
   "metadata": {},
   "outputs": [],
   "source": [
    "#from imagen import *"
   ]
  },
  {
   "cell_type": "markdown",
   "metadata": {},
   "source": [
    "Formato de la imagen: png, jpg,... Abramos algunas imágenes.\n",
    "\n",
    "Primero la cargamos"
   ]
  },
  {
   "cell_type": "code",
   "execution_count": null,
   "metadata": {},
   "outputs": [],
   "source": [
    "win=Image.open('winds.png')"
   ]
  },
  {
   "cell_type": "markdown",
   "metadata": {},
   "source": [
    "Y para mostrarla sólo hay que llamarla"
   ]
  },
  {
   "cell_type": "code",
   "execution_count": null,
   "metadata": {},
   "outputs": [],
   "source": [
    "win"
   ]
  },
  {
   "cell_type": "markdown",
   "metadata": {},
   "source": [
    "Cargemos otra imagen, ahora en formato jpg. "
   ]
  },
  {
   "cell_type": "code",
   "execution_count": null,
   "metadata": {},
   "outputs": [],
   "source": [
    "cap=Image.open('capitan.jpg')"
   ]
  },
  {
   "cell_type": "code",
   "execution_count": null,
   "metadata": {},
   "outputs": [],
   "source": [
    "cap"
   ]
  },
  {
   "cell_type": "markdown",
   "metadata": {},
   "source": [
    "Con el comando size podemos ver las dimensiones de estas imágenes"
   ]
  },
  {
   "cell_type": "code",
   "execution_count": null,
   "metadata": {},
   "outputs": [],
   "source": [
    "win.size"
   ]
  },
  {
   "cell_type": "code",
   "execution_count": null,
   "metadata": {},
   "outputs": [],
   "source": [
    "cap.size"
   ]
  },
  {
   "cell_type": "markdown",
   "metadata": {},
   "source": [
    "Para trabajar con estas imágenes las transformaremos en algún tipo de dato matemático, en este caso en matrices."
   ]
  },
  {
   "cell_type": "code",
   "execution_count": null,
   "metadata": {},
   "outputs": [],
   "source": [
    "matrizwin=win.load()\n",
    "matrizcap=cap.load()"
   ]
  },
  {
   "cell_type": "code",
   "execution_count": null,
   "metadata": {},
   "outputs": [],
   "source": [
    "type(matrizwin)"
   ]
  },
  {
   "cell_type": "markdown",
   "metadata": {},
   "source": [
    "Veamos que tipo de dato tienen estas matrices como entrada"
   ]
  },
  {
   "cell_type": "code",
   "execution_count": null,
   "metadata": {},
   "outputs": [],
   "source": [
    "matrizwin[0,0]"
   ]
  },
  {
   "cell_type": "code",
   "execution_count": null,
   "metadata": {},
   "outputs": [],
   "source": [
    "matrizcap[0,0]"
   ]
  },
  {
   "cell_type": "markdown",
   "metadata": {},
   "source": [
    "Cada entrada es una terna cuyas coordenadas indican los niveles de Rojo, Verde y Azul (RGB) que tiene la imágen en ese punto. Algunas matrices asociadas a imágenes tienen como entradas cuaternas (en lugar de ternas) en estás el úntimo dígito indica el nivel de transparencia.\n",
    "\n",
    "Podemos cambiar el aspecto de la imagen simplemene cambiando los puntos de su matriz."
   ]
  },
  {
   "cell_type": "code",
   "execution_count": null,
   "metadata": {},
   "outputs": [],
   "source": [
    "for i in range(10):\n",
    "    for j in range(152):\n",
    "        matrizwin[i,j]=(0,0,0)"
   ]
  },
  {
   "cell_type": "code",
   "execution_count": null,
   "metadata": {},
   "outputs": [],
   "source": [
    "win"
   ]
  },
  {
   "cell_type": "markdown",
   "metadata": {},
   "source": [
    "Podemos hacer funciones que cambien el aspecto de una imagen, por ejemplo la siguiente función hace un negativo."
   ]
  },
  {
   "cell_type": "code",
   "execution_count": null,
   "metadata": {},
   "outputs": [],
   "source": [
    "def negativo(im):\n",
    "    imaux=im\n",
    "    maux= imaux.load()\n",
    "    (n,m)= imaux.size\n",
    "    for i in range(n):\n",
    "        for j in range(m):\n",
    "            maux[i,j]=tuple([255-t for t in maux[i,j]])\n",
    "    return(imaux)"
   ]
  },
  {
   "cell_type": "code",
   "execution_count": null,
   "metadata": {},
   "outputs": [],
   "source": [
    "negativo(win)"
   ]
  },
  {
   "cell_type": "markdown",
   "metadata": {},
   "source": [
    "El problema con la definición anterior es que cambia la imagen de partida de forma que  perdemos la imagen original"
   ]
  },
  {
   "cell_type": "code",
   "execution_count": null,
   "metadata": {},
   "outputs": [],
   "source": [
    "win"
   ]
  },
  {
   "cell_type": "markdown",
   "metadata": {},
   "source": [
    "Para que no ocurra esto hacemos una copia de la imagen dentro de la función y es esa copia la que modificamos.\n",
    "Vamos primero a volver a cargar la imagen wind que hemos modificado."
   ]
  },
  {
   "cell_type": "code",
   "execution_count": null,
   "metadata": {},
   "outputs": [],
   "source": [
    "win=Image.open('winds.png')"
   ]
  },
  {
   "cell_type": "code",
   "execution_count": null,
   "metadata": {},
   "outputs": [],
   "source": [
    "win"
   ]
  },
  {
   "cell_type": "markdown",
   "metadata": {},
   "source": [
    "Volvemos a definir la función negativo, pero ahora haciendo una copia de la imagen de partida"
   ]
  },
  {
   "cell_type": "code",
   "execution_count": null,
   "metadata": {},
   "outputs": [],
   "source": [
    "def negativo(im):\n",
    "    imaux = im.copy()\n",
    "    maux = imaux.load()\n",
    "    (n,m)= imaux.size\n",
    "    for i in range(n):\n",
    "        for j in range(m):\n",
    "            maux[i,j]=tuple([255-t for t in maux[i,j]])\n",
    "    return(imaux)"
   ]
  },
  {
   "cell_type": "code",
   "execution_count": null,
   "metadata": {},
   "outputs": [],
   "source": [
    "negativo(win)"
   ]
  },
  {
   "cell_type": "code",
   "execution_count": null,
   "metadata": {},
   "outputs": [],
   "source": [
    "win"
   ]
  },
  {
   "cell_type": "markdown",
   "metadata": {},
   "source": [
    "<span style=\"color:red\">__Cuando definamos una función para tratar imágenes dentro de la definición hacemos una copia de la imagen y tratamos esta copia.__</span>"
   ]
  },
  {
   "cell_type": "markdown",
   "metadata": {},
   "source": [
    "**Ejercicio 1.-** Define una función <span style=\"color:blue\">flip</span> que transforme una imagen en otra obtenida aplicandole una simetría a los puntos de la imagen respecto de una línea vertical que pase por el centro."
   ]
  },
  {
   "cell_type": "markdown",
   "metadata": {},
   "source": [
    "El resultado de aplicar la función flip a la imagen win debe ser"
   ]
  },
  {
   "cell_type": "code",
   "execution_count": null,
   "metadata": {},
   "outputs": [],
   "source": [
    "def flip(im):\n",
    "    imaux = im.copy()\n",
    "    maux = imaux.load()\n",
    "    (n,m) = imaux.size\n",
    "    for i in range(int(n/2)):\n",
    "        for j in range(m):\n",
    "            aux = maux[i,j]\n",
    "            maux[i,j] = maux[n-1-i,j]\n",
    "            maux[n-1-i,j] = aux\n",
    "    return(imaux)"
   ]
  },
  {
   "cell_type": "code",
   "execution_count": null,
   "metadata": {},
   "outputs": [],
   "source": [
    "#from imagen import flip\n",
    "flip(win)"
   ]
  },
  {
   "cell_type": "code",
   "execution_count": null,
   "metadata": {},
   "outputs": [],
   "source": [
    "win"
   ]
  },
  {
   "cell_type": "markdown",
   "metadata": {},
   "source": [
    "**Ejercicio 2.-** Vamos a definir una función <span style=\"color:blue\">encrip</span> para encriptar una imagen, de manera que podamos enviarla por la red sin que puedan verla los crakers.\n",
    "\n",
    "Queremos que la función haga lo siguiente:\n",
    "- **Imput:** Una imagen $im$\n",
    "- **Output:** Otra imagen $imc$\n",
    "    - Hacemos una copia de la imagen __imc=im.copy()__\n",
    "    - Llamamos __matriz__ a la matriz asociada a imc\n",
    "    - Calcula $(n,m)=size(im)$\n",
    "    - Elegimos al azar valores (a,b,c) con las condiciones:\n",
    "    $$ 1<a,b,c<256,\\qquad mcd(a,n)=1,\\qquad mcd(b,m)=1.$$\n",
    "    - Ponemos matriz $[0,0]=(a,b,c)$, esta será una información que sólo daremos a nuestro amigos para que sólamente ellos puedan ver la imagen original.\n",
    "    - Para $i,j\\neq 0$ hacemos el cambio \n",
    "    $$matriz[i,j]=matriz[(a*i)\\%n,((b*j)+c)\\%m).$$\n",
    "    \n",
    "Utilizaremos el módulo <span style=\"color:green\">random</span> para elegir valores al azar y el comando gcd de <span style=\"color:green\">sympy</span> para calcular máximo común divisor."
   ]
  },
  {
   "cell_type": "code",
   "execution_count": null,
   "metadata": {},
   "outputs": [],
   "source": [
    "def azar(n):\n",
    "    a=random.randint(1,256)\n",
    "    while gcd(a,n)!=int(1):\n",
    "        a=random.randint(1,256)\n",
    "    return(a)"
   ]
  },
  {
   "cell_type": "code",
   "execution_count": null,
   "metadata": {},
   "outputs": [],
   "source": [
    "def encrip(im):\n",
    "    imc=im.copy()\n",
    "    imc2 = im.copy()\n",
    "    matriz1= imc.load()\n",
    "    matriz2 = imc2.load()\n",
    "    (n,m)= imc.size\n",
    "    a, b, c = azar(n), azar(m), random.randint(1,256)\n",
    "    for i in range(n):\n",
    "        for j in range(m):\n",
    "                matriz2[i,j] = matriz1[(a*i)%n,((b*j)+c)%m]\n",
    "    matriz2[0,0] = (a,b,c)\n",
    "    return(imc2)"
   ]
  },
  {
   "cell_type": "code",
   "execution_count": null,
   "metadata": {},
   "outputs": [],
   "source": [
    "#from imagen import *"
   ]
  },
  {
   "cell_type": "code",
   "execution_count": null,
   "metadata": {},
   "outputs": [],
   "source": [
    "ewin=encrip(win)"
   ]
  },
  {
   "cell_type": "code",
   "execution_count": null,
   "metadata": {},
   "outputs": [],
   "source": [
    "ewin"
   ]
  },
  {
   "cell_type": "markdown",
   "metadata": {},
   "source": [
    "Podemos guardar la imágen anterior para mandarla a alguien"
   ]
  },
  {
   "cell_type": "code",
   "execution_count": null,
   "metadata": {},
   "outputs": [],
   "source": [
    "ewin.save(\"ewin.png\",\"PNG\")"
   ]
  },
  {
   "cell_type": "markdown",
   "metadata": {},
   "source": [
    "**Ejercicio 3.-** Define una función <span style=\"color:blue\">desencrip</span> para desencriptar una imagen que se ha encriptado con la función <span style=\"color:blue\">encrip</span>. Aplica esta función a la imagen 'ewin' y comprueba que recurperas la imagen 'win' de partida."
   ]
  },
  {
   "cell_type": "code",
   "execution_count": null,
   "metadata": {},
   "outputs": [],
   "source": [
    "def desencrip(im):\n",
    "    imc = im.copy()\n",
    "    imc2 = im.copy()\n",
    "    matriz1 = imc.load()\n",
    "    matriz2 = imc2.load()\n",
    "    (n,m)= imc.size\n",
    "    (a, b, c) = matriz1[0,0]\n",
    "    for i in range(n):\n",
    "        for j in range(m):\n",
    "                matriz2[(a*i)%n,((b*j)+c)%m] = matriz1[i,j]\n",
    "    return(imc2)"
   ]
  },
  {
   "cell_type": "code",
   "execution_count": null,
   "metadata": {},
   "outputs": [],
   "source": [
    "desencrip(ewin)"
   ]
  },
  {
   "cell_type": "markdown",
   "metadata": {
    "collapsed": true
   },
   "source": [
    "# Algo más complejo"
   ]
  },
  {
   "cell_type": "markdown",
   "metadata": {},
   "source": [
    "**Ejercicio 4.-** Define una función <span style=\"color:blue\">md</span> que calcule la media de una terna."
   ]
  },
  {
   "cell_type": "code",
   "execution_count": null,
   "metadata": {},
   "outputs": [],
   "source": [
    "def md(x):\n",
    "    return(sum(x)/3)"
   ]
  },
  {
   "cell_type": "markdown",
   "metadata": {},
   "source": [
    "**Ejercicio 5.-** Definir una función <span style=\"color:blue\">reemplaza</span> con imput una imagen que llamo **im** que haga lo siguiente:\n",
    "- Construye la matriz **mat** asociada a una copia de **im**.\n",
    "- Construye la lista con las medias de todas las ternas en **mat**.\n",
    "- Utiliza la función <span style=\"color:blue\">mode</span> de <span style=\"color:blue\">statistics</span> para ver el valor que más se repite en la lista anterior, llamemos **cota** a este valor.\n",
    "- Si la media de mat[i,j] está entre cota-30 y cota+30 sustituye mat[i,j] por (0,255,0).\n",
    "- Saca a imagen resultante."
   ]
  },
  {
   "cell_type": "code",
   "execution_count": null,
   "metadata": {},
   "outputs": [],
   "source": [
    "def reemplaza(im):\n",
    "    imc = im.copy()\n",
    "    mat = imc.load()\n",
    "    (n,m)= imc.size\n",
    "    lista = [md(mat[i,j]) for i in range(n) for j in range(m)]\n",
    "    cota_sup = mode(lista) + 30\n",
    "    cota_inf = mode(lista) - 30\n",
    "    for i in range(n):\n",
    "        for j in range(m):\n",
    "            if md(mat[i,j]) > cota_inf and md(mat[i,j]) < cota_sup:\n",
    "                mat[i,j] = (0,255,0)\n",
    "    return(imc)"
   ]
  },
  {
   "cell_type": "code",
   "execution_count": null,
   "metadata": {},
   "outputs": [],
   "source": [
    "reemplaza(win)"
   ]
  },
  {
   "cell_type": "code",
   "execution_count": null,
   "metadata": {},
   "outputs": [],
   "source": [
    "reemplaza(cap)"
   ]
  },
  {
   "cell_type": "markdown",
   "metadata": {},
   "source": [
    "Enlugar de elegir la **cota** como el valor que más se repita en media, podemos elegirla a nuestro antojo, e incluso podemos cambiar el rango 30."
   ]
  },
  {
   "cell_type": "markdown",
   "metadata": {},
   "source": [
    "**Ejercicio 6.-** Define una función <span style=\"color:blue\">reemplaza2(imagen,cota, rango)</span> en la que introducimos nuestra cota y cambiamos los valores de la imagen que en media esten entre cota-rango y cota+rango."
   ]
  },
  {
   "cell_type": "code",
   "execution_count": null,
   "metadata": {},
   "outputs": [],
   "source": [
    "def reemplaza2(im,cota,rango):\n",
    "    imc = im.copy()\n",
    "    mat = imc.load()\n",
    "    (n,m)= imc.size\n",
    "    lista = [md(mat[i,j]) for i in range(n) for j in range(m)]\n",
    "    cota_sup = cota + rango\n",
    "    cota_inf = cota - rango\n",
    "    for i in range(n):\n",
    "        for j in range(m):\n",
    "            if md(mat[i,j]) > cota_inf and md(mat[i,j]) < cota_sup:\n",
    "                mat[i,j] = (0,255,0)\n",
    "    return(imc)"
   ]
  },
  {
   "cell_type": "code",
   "execution_count": null,
   "metadata": {},
   "outputs": [],
   "source": [
    "funko = Image.open('funko.jpg')\n",
    "funkos = funko.resize((490,308),Image.LANCZOS)"
   ]
  },
  {
   "cell_type": "code",
   "execution_count": null,
   "metadata": {},
   "outputs": [],
   "source": [
    "mujer=Image.open('mujer.jpg')\n",
    "mujer"
   ]
  },
  {
   "cell_type": "code",
   "execution_count": null,
   "metadata": {},
   "outputs": [],
   "source": [
    "mujer.size"
   ]
  },
  {
   "cell_type": "markdown",
   "metadata": {},
   "source": [
    "Veamos que valor tiene la media más o menos en el centro"
   ]
  },
  {
   "cell_type": "code",
   "execution_count": null,
   "metadata": {},
   "outputs": [],
   "source": [
    "matrizmujer= mujer.load()\n",
    "md(matrizmujer[245,154])"
   ]
  },
  {
   "cell_type": "markdown",
   "metadata": {},
   "source": [
    "Establezco la cota en 194 y el rango por ejemplo en 20, veamos qué ocurre:"
   ]
  },
  {
   "cell_type": "code",
   "execution_count": null,
   "metadata": {},
   "outputs": [],
   "source": [
    "mujerverde = reemplaza2(mujer,194,15)\n",
    "mujerverde"
   ]
  },
  {
   "cell_type": "markdown",
   "metadata": {},
   "source": [
    "Una vez que hemos cambiado una parte de nuestra imagen por un color como antes podemos podemos cabiar todos los puntos con ese color por otra cosa, por ejemplo podríamos fundir dos imágenes. Hay que tener cuidado con las dimensiones de las imágenes para no salirnos de rango."
   ]
  },
  {
   "cell_type": "markdown",
   "metadata": {},
   "source": [
    "Abrimos otra imagen para fundir"
   ]
  },
  {
   "cell_type": "code",
   "execution_count": null,
   "metadata": {},
   "outputs": [],
   "source": [
    "pico=Image.open('p.png')"
   ]
  },
  {
   "cell_type": "markdown",
   "metadata": {},
   "source": [
    "Redimensionamos "
   ]
  },
  {
   "cell_type": "code",
   "execution_count": null,
   "metadata": {},
   "outputs": [],
   "source": [
    "pico2=pico.resize((490,308),Image.LANCZOS)\n",
    "pico2"
   ]
  },
  {
   "cell_type": "markdown",
   "metadata": {},
   "source": [
    "Esto claramente se puede mejorar, y si lo aplicamos a fondos homogéneos podemos controlar la salida mejor"
   ]
  },
  {
   "cell_type": "code",
   "execution_count": null,
   "metadata": {},
   "outputs": [],
   "source": [
    "funko = Image.open('foto.jpg')\n",
    "funkos = funko.resize((490,308),Image.LANCZOS)\n",
    "funkos"
   ]
  },
  {
   "cell_type": "code",
   "execution_count": null,
   "metadata": {},
   "outputs": [],
   "source": [
    "matrizfunkos= funkos.load()\n",
    "md(matrizfunkos[245,154])"
   ]
  },
  {
   "cell_type": "code",
   "execution_count": null,
   "metadata": {},
   "outputs": [],
   "source": [
    "funkoverde = reemplaza2(funkos,1,10)\n",
    "funkoverde"
   ]
  },
  {
   "cell_type": "markdown",
   "metadata": {},
   "source": [
    "**Ejercicio 7.-** Mejora las funciones anteriores definiendo una función <span style=\"color:blue\">reemplaza3</span> para hacer fundidos de imágenes. Haz ejemplos para ver como funciona tu función."
   ]
  },
  {
   "cell_type": "code",
   "execution_count": null,
   "metadata": {},
   "outputs": [],
   "source": [
    "def reemplaza3(im1,im2):\n",
    "    imc = im1.copy()\n",
    "    mat = imc.load()\n",
    "    mat2 = im2.load()\n",
    "    (n,m)= imc.size\n",
    "    for i in range(n):\n",
    "        for j in range(m):\n",
    "            if mat[i,j] == (0,255,0):\n",
    "                mat[i,j] = mat2[i,j]\n",
    "    return(imc)"
   ]
  },
  {
   "cell_type": "code",
   "execution_count": null,
   "metadata": {},
   "outputs": [],
   "source": [
    "reemplaza3(mujerverde,pico2)"
   ]
  },
  {
   "cell_type": "code",
   "execution_count": null,
   "metadata": {},
   "outputs": [],
   "source": [
    "reemplaza3(flip(funkoverde),pico2)"
   ]
  }
 ],
 "metadata": {
  "kernelspec": {
   "display_name": "Python 3",
   "language": "python",
   "name": "python3"
  },
  "language_info": {
   "codemirror_mode": {
    "name": "ipython",
    "version": 3
   },
   "file_extension": ".py",
   "mimetype": "text/x-python",
   "name": "python",
   "nbconvert_exporter": "python",
   "pygments_lexer": "ipython3",
   "version": "3.5.2"
  }
 },
 "nbformat": 4,
 "nbformat_minor": 2
}
