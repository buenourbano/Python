{
 "cells": [
  {
   "cell_type": "markdown",
   "metadata": {},
   "source": [
    "# Software en Matemáticas\n",
    "## Jesús Bueno Urbano - 20078941X"
   ]
  },
  {
   "cell_type": "markdown",
   "metadata": {},
   "source": [
    "### Ejercicio 2\n",
    "\n",
    "Idee una o varias funciones que consiga cifrar y descifrar según el criptosistema afı́n. Aporte en implementación las ideas que se le ocurran en relación con el ataque a este criptosistema."
   ]
  },
  {
   "cell_type": "markdown",
   "metadata": {},
   "source": [
    "Importamos **gcdex** del modulo **sympy**."
   ]
  },
  {
   "cell_type": "code",
   "execution_count": 6,
   "metadata": {},
   "outputs": [],
   "source": [
    "from sympy import gcdex"
   ]
  },
  {
   "cell_type": "markdown",
   "metadata": {},
   "source": [
    "Definimos una función que nos devuelva la llave de un diccionario si le introducimos el valor que secorresponde con ella."
   ]
  },
  {
   "cell_type": "code",
   "execution_count": 7,
   "metadata": {},
   "outputs": [],
   "source": [
    "def keybyvalue(dic,value):\n",
    "    return(next((k for k, v in dic.items() if v == value)))"
   ]
  },
  {
   "cell_type": "markdown",
   "metadata": {},
   "source": [
    "La función **encrip** que a continuación definimos tiene el siguiente esquema:\n",
    "* Creamos un diccionario donde hagamos corresponder cada letra con un valor numérico entre 0 y 41\n",
    "* Vamos recorriendo el string que queremos codificar letra a letra\n",
    "* A continuación a cada letra le hacemos corresponder un valor numérico gracias al diccionario que hemos definido. A este valor le aplicamos la transformación afín deseada.\n",
    "* Con la función **keybyvalue** recuperamos el la letra correspondiente al nuevo valor numérico.\n",
    "* Finalmente esto lo vamos uniendo en un string que será el valor que devolvamos."
   ]
  },
  {
   "cell_type": "code",
   "execution_count": 8,
   "metadata": {},
   "outputs": [],
   "source": [
    "def encrip(string,a,b):\n",
    "    \n",
    "    cadena = string.lower()\n",
    "    letras = ' abcdefghijklmnopqrstuvwxyz0123456789,.;:'\n",
    "    diccio = dict(zip(list(letras),list(range(41))))\n",
    "    codigo = ''\n",
    "    \n",
    "    if a < 0 or a > 40 or b < 0 or b > 40:\n",
    "        return(\"Parámetros no válidos. El los valores a y b deben de estar entre cero y cuarenta.\")\n",
    "    else:\n",
    "        for i in range(len(string)):\n",
    "            codigo = codigo + keybyvalue(diccio,(a*diccio[cadena[i]] + b)%41)\n",
    "            \n",
    "    return(codigo)"
   ]
  },
  {
   "cell_type": "code",
   "execution_count": 9,
   "metadata": {},
   "outputs": [
    {
     "data": {
      "text/plain": [
       "'2.eh9p27ep2fnrfsregggereu5:2wew9e.9es:2w2'"
      ]
     },
     "execution_count": 9,
     "metadata": {},
     "output_type": "execute_result"
    }
   ],
   "source": [
    "encrip('el poder desgasta ... a quien no lo tiene',13,5)"
   ]
  },
  {
   "cell_type": "code",
   "execution_count": 11,
   "metadata": {},
   "outputs": [],
   "source": [
    "def desencrip(string,a,b):\n",
    "    \n",
    "    cadena = string.lower()\n",
    "    letras = ' abcdefghijklmnopqrstuvwxyz0123456789,.;:'\n",
    "    diccio = dict(zip(list(letras),list(range(41))))\n",
    "    frase = ''\n",
    "    a_inverso = gcdex(a,41)[0]%41\n",
    "    \n",
    "    for i in range(len(string)):\n",
    "        frase = frase + keybyvalue(diccio,(a_inverso*(diccio[cadena[i]] - b))%41)\n",
    "            \n",
    "    return(frase) "
   ]
  },
  {
   "cell_type": "code",
   "execution_count": 12,
   "metadata": {},
   "outputs": [
    {
     "data": {
      "text/plain": [
       "'el poder desgasta ... a quien no lo tiene'"
      ]
     },
     "execution_count": 12,
     "metadata": {},
     "output_type": "execute_result"
    }
   ],
   "source": [
    "desencrip('2.eh9p27ep2fnrfsregggereu5:2wew9e.9es:2w2',13,5)"
   ]
  }
 ],
 "metadata": {
  "kernelspec": {
   "display_name": "Python 3",
   "language": "python",
   "name": "python3"
  },
  "language_info": {
   "codemirror_mode": {
    "name": "ipython",
    "version": 3
   },
   "file_extension": ".py",
   "mimetype": "text/x-python",
   "name": "python",
   "nbconvert_exporter": "python",
   "pygments_lexer": "ipython3",
   "version": "3.5.2"
  }
 },
 "nbformat": 4,
 "nbformat_minor": 2
}
