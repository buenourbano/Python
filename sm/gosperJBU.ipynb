{
 "cells": [
  {
   "cell_type": "markdown",
   "metadata": {},
   "source": [
    "# Polinomios y el algoritmo de Gosper"
   ]
  },
  {
   "cell_type": "markdown",
   "metadata": {},
   "source": [
    "En esta tarea vamos a trabajar con polinomions y vamos ha programar un algoritmo que calculará una forma \"canónica\" asociada a cualquier facción polinómica. Esta forma canónica tiene gran utilidad a la hora de estudiar series \"Gosper sumables\"."
   ]
  },
  {
   "cell_type": "markdown",
   "metadata": {},
   "source": [
    "**Nota:** Iremos haciendo un ejemplo después de cada ejercicio para comprobar que las funciones van funcionando correctamente."
   ]
  },
  {
   "cell_type": "code",
   "execution_count": 1,
   "metadata": {},
   "outputs": [],
   "source": [
    "from sympy import *\n",
    "x = symbols('x')\n",
    "h = symbols('h')"
   ]
  },
  {
   "cell_type": "markdown",
   "metadata": {},
   "source": [
    "# Nuestro objetivo"
   ]
  },
  {
   "cell_type": "markdown",
   "metadata": {},
   "source": [
    "Vamos a trabajar con fracciones polinómicas, esto es, funciones de la forma\n",
    "$$\n",
    "r(x)=\\frac{p(x)}{q(x)}\n",
    "$$\n",
    "con $p$ y $q$ polinomios.\n",
    "\n",
    "Nuestro objetivo será obtener una forma canónica asociada a esta función\n",
    "$$r(x)=cte \\frac{a(x)}{b(x)} \\frac{c(x+1)}{c(x)},$$\n",
    "con $cte$ una constante y $a,b,c$ polinomios mónicos cumpliendo que $$m.c.d(a(x),b(x+h))=1,$$ para todo entero $h\\geq 0$."
   ]
  },
  {
   "cell_type": "markdown",
   "metadata": {},
   "source": [
    "## Primer paso"
   ]
  },
  {
   "cell_type": "markdown",
   "metadata": {
    "collapsed": true
   },
   "source": [
    "Comenzamos expresando $r(x)$ como una cosntante por un cociente de polinomios mónicos \n",
    "$$\n",
    "r(x)=cte \\frac{p_1(x)}{q_1(x)}\n",
    "$$\n",
    "Si llamamos $a=$ coeficiente lider de $p(x)$ y $b=$ coeficiente lider de $q(x)$, \n",
    "claramente:\n",
    "\\begin{array}{l}\n",
    " cte=\\frac{a}{b},\\\\\n",
    " p_1(x)=\\frac{1}{a} p(x),\\\\\n",
    " q_1(x)=\\frac{1}{b} q(x).\n",
    "\\end{array}\n"
   ]
  },
  {
   "cell_type": "markdown",
   "metadata": {
    "collapsed": true
   },
   "source": [
    "**Ejercicio 1.-** Define una función <span style=\"color:blue\">paso1</span> que asocie a una función racional $r(x)$ ( o a un par de polínomios $(p(x),q(x))$ ) una terna $(cte,p_1(x),q_1(x))$ en las condiciones anteriores."
   ]
  },
  {
   "cell_type": "code",
   "execution_count": 2,
   "metadata": {},
   "outputs": [],
   "source": [
    "def paso1(p,q):\n",
    "    \n",
    "    #comenzamos por extraer los coeficientes líderes\n",
    "    \n",
    "    polyp, polyq = Poly(p), Poly(q)\n",
    "    lider_p, lider_q = polyp.coeffs()[0], polyq.coeffs()[0]\n",
    "    lider = lider_p / lider_q\n",
    "    \n",
    "    #dividimos cada polinomio por su coeficiente líder\n",
    "    \n",
    "    poly_p = Lambda((x),simplify(polyp/lider_p))\n",
    "    poly_q = Lambda((x),simplify(polyq/lider_q))\n",
    "    \n",
    "    #devolvemos el cociente de los coeficientes líderes y los nuevos polinomios\n",
    "\n",
    "    return([lider,poly_p,poly_q])    "
   ]
  },
  {
   "cell_type": "code",
   "execution_count": 3,
   "metadata": {},
   "outputs": [],
   "source": [
    "p, q = 3*(x-1)**2 * (x+2), (x-1)*(x-3)"
   ]
  },
  {
   "cell_type": "code",
   "execution_count": 4,
   "metadata": {},
   "outputs": [
    {
     "data": {
      "text/plain": [
       "[3, Lambda(x, x**3 - 3*x + 2), Lambda(x, x**2 - 4*x + 3)]"
      ]
     },
     "execution_count": 4,
     "metadata": {},
     "output_type": "execute_result"
    }
   ],
   "source": [
    "p1, q1 = paso1(p,q)[1], paso1(p,q)[2]\n",
    "paso1(p,q)"
   ]
  },
  {
   "cell_type": "markdown",
   "metadata": {},
   "source": [
    "## Segundo paso"
   ]
  },
  {
   "cell_type": "markdown",
   "metadata": {
    "collapsed": true
   },
   "source": [
    "En el siguiente paso vamos a simplificar la fracción $\\frac{p_1(x)}{q_1(x)}$ para ello calculamos $m(x)=m.c.d(p_1,q_1)$ y tomamos $p_2(x)=\\frac{p_1(x)}{m(x)}$ y $q_2(x)=\\frac{q_1(x)}{m(x)}$"
   ]
  },
  {
   "cell_type": "markdown",
   "metadata": {
    "collapsed": true
   },
   "source": [
    "** Ejercicio 2.-**  Define una función <span style=\"color:blue\">paso2</span> que asocie a un par de polinomios $(p_1,q_1)$ un par de polinomios $(p_2,q_2)$ en las condiciones anteriores."
   ]
  },
  {
   "cell_type": "code",
   "execution_count": 5,
   "metadata": {},
   "outputs": [],
   "source": [
    "def paso2(p,q):\n",
    "    \n",
    "    polyp, polyq = Poly(p(x)), Poly(q(x))\n",
    "    m = gcd(polyp,polyq)\n",
    "    \n",
    "    #calculmos el mcd y devolvemos los polinomios divididos por éste\n",
    "    \n",
    "    return([Lambda((x),simplify(polyp/m)),Lambda((x),simplify(polyq/m))])"
   ]
  },
  {
   "cell_type": "code",
   "execution_count": 6,
   "metadata": {},
   "outputs": [
    {
     "data": {
      "text/plain": [
       "[Lambda(x, x**2 + x - 2), Lambda(x, x - 3)]"
      ]
     },
     "execution_count": 6,
     "metadata": {},
     "output_type": "execute_result"
    }
   ],
   "source": [
    "p2, q2 = paso2(p1,q1)[0], paso2(p1,q1)[1]\n",
    "paso2(p1,q1)"
   ]
  },
  {
   "cell_type": "markdown",
   "metadata": {},
   "source": [
    "## Tercer paso"
   ]
  },
  {
   "cell_type": "markdown",
   "metadata": {},
   "source": [
    "Recordar que nuestro objetivo es expresar una función racional $r$ en forma canónica:\n",
    "$$r(x)=cte \\frac{a(x)}{b(x)} \\frac{c(x+1)}{c(x)},$$\n",
    "con la condición $m.c.d(a(x),b(x+h))=1,$ para todo $h$ entero positivo."
   ]
  },
  {
   "cell_type": "markdown",
   "metadata": {},
   "source": [
    "### Definición de la función paso3"
   ]
  },
  {
   "cell_type": "markdown",
   "metadata": {},
   "source": [
    "** Ejercicio 3.-** Definir la función <span style=\"color:blue\">paso3</span> con las siguientes entradas y salidas:\n",
    "- **Entrada:**\n",
    "   - Dos polinomios $p$ y $q$ mónicos y primos relativos.\n",
    "   \n",
    "- **Salida:**\n",
    "   - Polinomios $a(x), b(x), c(x)$ tales que:\n",
    "   $$\\qquad$$\n",
    "      - $\\frac{p(x)}{q(x)}=\\frac{a(x)}{b(x)} \\frac{c(x+1)}{c(x)}$,\n",
    "      $$\\qquad$$\n",
    "      - $m.c.d(a(x),b(x+h))=1$, para todo entero $h\\geq 0$."
   ]
  },
  {
   "cell_type": "markdown",
   "metadata": {},
   "source": [
    "Seguiremos el siguiente algoritmo:"
   ]
  },
  {
   "cell_type": "markdown",
   "metadata": {},
   "source": [
    "- **Paso 3.1.** Calculamos la resultante\n",
    "\n",
    "$$R(h)=resultant(p(x), q(x+ h),x)$$\n",
    "\n",
    "- **Paso 3.2.** Encontramos la lista de raíces enteras no negativas de $R(h)$ y las ordenamos de menor a mayor\n",
    "\n",
    "$$\n",
    "ListaRaices=\\{0\\leq  h_1\\leq h_2\\leq \\ldots \\leq h_N\\}\n",
    "$$\n",
    "\n",
    "- **Paso 3.3.** Tomamos \n",
    "$$\\qquad$$\n",
    "    - $p_0(x)= p(x)$, \n",
    "     \n",
    "    - $q_0(x)=q(x)$. \n",
    "    $$\\qquad$$\n",
    "\n",
    "- **Paso 3.4.** Para $j=1, \\ldots, N$ tomamos\n",
    "\\begin{array}{l}\n",
    "    s_j(x)= mcd(p_{j-1}(x),q_{j-1}(x+h_j)), \\\\\n",
    "    p_j(x)= \\frac{p_{j-1}(x)}{s_j(x)}, \\\\\n",
    "    q_j(x)= \\frac{q_{j-1}(x)}{s_j(x-h_j)}.\n",
    "\\end{array}\n",
    "    \n",
    "- **Paso 3.5.** Salida\n",
    "\\begin{array}{l}\n",
    "a(x)= p_N(x),\\\\\n",
    "b(x)= q_N(x),\\\\\n",
    "c(x)= \\prod_{i=1}^N \\prod_{j=1}^{h_i} s_i(x-j).\n",
    "\\end{array}\n"
   ]
  },
  {
   "cell_type": "code",
   "execution_count": 7,
   "metadata": {},
   "outputs": [],
   "source": [
    "#función que nos calcula las raíces que cumplen la condición del enunciado\n",
    "\n",
    "def raices(p,q):\n",
    "    \n",
    "    polyp, polyq = p, q\n",
    "    listaraices = [x for x in solve(resultant(polyp(x),polyq(x+h),x),h) if ask(Q.integer(x)) and x > 0]\n",
    "    \n",
    "    return(listaraices)"
   ]
  },
  {
   "cell_type": "code",
   "execution_count": 8,
   "metadata": {},
   "outputs": [],
   "source": [
    "def paso3(p,q):\n",
    "    \n",
    "    p0, q0 = p, q\n",
    "    listaraices = raices(p,q)\n",
    "    n = len(listaraices)\n",
    "    s_lista = []\n",
    "    \n",
    "    #bucle que calcula las funciones p, q y s\n",
    "    \n",
    "    for i in range(n):\n",
    "        s_lista.append(Lambda((x),gcd(p0(x),q0(x+listaraices[i]))))\n",
    "        p0, q0 = simplify(Lambda((x), p0(x)/s_lista[i](x))), simplify(Lambda((x),q0(x)/s_lista[i](x-listaraices[i])))\n",
    "        \n",
    "    c = 1\n",
    "    \n",
    "    #bucle que calcula la función c\n",
    "    \n",
    "    for i in range(n):\n",
    "        for j in range(1,listaraices[i]+1):\n",
    "            c = c*s_lista[i](x-j)\n",
    "        \n",
    "    a = simplify(p0)\n",
    "    b = simplify(q0)\n",
    "    c = Lambda((x),c)\n",
    "    \n",
    "    return([a,b,c])        "
   ]
  },
  {
   "cell_type": "code",
   "execution_count": 9,
   "metadata": {},
   "outputs": [
    {
     "data": {
      "text/plain": [
       "[Lambda(x, x + 2), Lambda(x, 1), Lambda(x, (x - 3)*(x - 2))]"
      ]
     },
     "execution_count": 9,
     "metadata": {},
     "output_type": "execute_result"
    }
   ],
   "source": [
    "a, b, c = paso3(p2,q2)\n",
    "paso3(p2,q2)"
   ]
  },
  {
   "cell_type": "code",
   "execution_count": 10,
   "metadata": {},
   "outputs": [
    {
     "data": {
      "text/plain": [
       "[]"
      ]
     },
     "execution_count": 10,
     "metadata": {},
     "output_type": "execute_result"
    }
   ],
   "source": [
    "solve(resultant(a(x),b(x+h),x),h)"
   ]
  },
  {
   "cell_type": "markdown",
   "metadata": {},
   "source": [
    "**Ejercicio 4.-** Usas las funciones <span style=\"color:blue\">paso1,paso2</span> y <span style=\"color:blue\">paso3</span> para definer una función <span style=\"color:blue\">Gosper</span> con entrada una función racional $r(x)$ (o un par de polinomios $(p(x),q(x))$ ) y salida una cuatrupla $(cte,a(x),b(x),c(x))$ correspondiente a la expresión en forma canónica de $r(x)$."
   ]
  },
  {
   "cell_type": "code",
   "execution_count": 11,
   "metadata": {},
   "outputs": [],
   "source": [
    "def gosper(p,q):\n",
    "    step1 = paso1(p,q)\n",
    "    step2 = paso2(step1[1],step1[2])\n",
    "    step3 = paso3(step2[0],step2[1])\n",
    "    return([step1[0],step3[0],step3[1],step3[2]])"
   ]
  },
  {
   "cell_type": "code",
   "execution_count": 12,
   "metadata": {},
   "outputs": [
    {
     "data": {
      "text/plain": [
       "[3, Lambda(x, x + 2), Lambda(x, 1), Lambda(x, (x - 3)*(x - 2))]"
      ]
     },
     "execution_count": 12,
     "metadata": {},
     "output_type": "execute_result"
    }
   ],
   "source": [
    "gosper(p,q)"
   ]
  },
  {
   "cell_type": "code",
   "execution_count": 13,
   "metadata": {},
   "outputs": [
    {
     "data": {
      "text/plain": [
       "[]"
      ]
     },
     "execution_count": 13,
     "metadata": {},
     "output_type": "execute_result"
    }
   ],
   "source": [
    "lider, a, b, c = gosper(p,q)\n",
    "solve(resultant(a(x),b(x+h),x),h)"
   ]
  },
  {
   "cell_type": "markdown",
   "metadata": {},
   "source": [
    "**Ejercicio 5.** Aplica la función <span style=\"color:blue\">Gosper</span> a las funciones racionales determinadas por los siguientes pares de polinomios:\n",
    "\n",
    "\n",
    "\\begin{array}{l}\n",
    "(p=2x^4 - 22x^3 + 48x^2 + 46x + 70\\, , q=5x^6 - 75x^5 + 315x^4 - 320 x^3 + 385x^2 - 550 x + 240),\\\\\n",
    "(p=3 x^5 - 15x^4 + 33x^2 + 51 x + 36\\, , q=5 x^7 - 65 x^6 + 165 x^5 + 300 x^4 - 100x^3 - 475 x^2 - 70 x + 240)\\\\\n",
    "( p=7x^7 - 49x^6 - 245x^5 + 1330x^4 + 1813x^3 - 2681x^2 - 1575 x + 1400 \\, , q=2x^5 - 36 x^3 + 60 x^2 - 38 x + 60).\n",
    "\\end{array}\n",
    "\n",
    "Comprueba que se da la igualdad \n",
    "$$\\frac{p(k)}{q(k)}=cte \\frac{a(k)}{b(k)} \\frac{c(k+1)}{c(k)}$$\n",
    "para cada pareja $(p,q)$. \n",
    "\n",
    "Comprueba también que los polinomios que has obtenido $a(k)$ y $b(k+h)$ son primos relativos, para todo entero no negativo $h$. Para comprobar esto último calcula la correspondiente resultante y comprueba que no tiene raíces enteras no negativas."
   ]
  },
  {
   "cell_type": "markdown",
   "metadata": {},
   "source": [
    "### Ejemplo1"
   ]
  },
  {
   "cell_type": "code",
   "execution_count": 14,
   "metadata": {},
   "outputs": [
    {
     "data": {
      "text/plain": [
       "[2/5,\n",
       " Lambda(x, x**2 + x + 1),\n",
       " Lambda(x, x**4 - x**3 + x**2 - 2*x + 1),\n",
       " Lambda(x, -12*x + (x - 1)**2 + 47)]"
      ]
     },
     "execution_count": 14,
     "metadata": {},
     "output_type": "execute_result"
    }
   ],
   "source": [
    "p = 2*x**4 - 22*x**3 + 48*x**2 + 46*x + 70\n",
    "q = 5*x**6 - 75*x**5 + 315*x**4 - 320*x**3 + 385*x**2 - 550*x + 240\n",
    "gosper(p,q)"
   ]
  },
  {
   "cell_type": "markdown",
   "metadata": {},
   "source": [
    "Pasamos a hacer la comprobación pertinente:"
   ]
  },
  {
   "cell_type": "code",
   "execution_count": 15,
   "metadata": {},
   "outputs": [
    {
     "data": {
      "text/plain": [
       "[3/2 - sqrt(3)*I/2,\n",
       " 3/2 + sqrt(3)*I/2,\n",
       " CRootOf(h**6 - 3*h**5 + 8*h**4 - 13*h**3 + 13*h**2 - 4*h + 1, 0),\n",
       " CRootOf(h**6 - 3*h**5 + 8*h**4 - 13*h**3 + 13*h**2 - 4*h + 1, 1),\n",
       " CRootOf(h**6 - 3*h**5 + 8*h**4 - 13*h**3 + 13*h**2 - 4*h + 1, 2),\n",
       " CRootOf(h**6 - 3*h**5 + 8*h**4 - 13*h**3 + 13*h**2 - 4*h + 1, 3),\n",
       " CRootOf(h**6 - 3*h**5 + 8*h**4 - 13*h**3 + 13*h**2 - 4*h + 1, 4),\n",
       " CRootOf(h**6 - 3*h**5 + 8*h**4 - 13*h**3 + 13*h**2 - 4*h + 1, 5)]"
      ]
     },
     "execution_count": 15,
     "metadata": {},
     "output_type": "execute_result"
    }
   ],
   "source": [
    "a = Lambda((x), x**2 + x + 1)\n",
    "b = Lambda((x), x**4 - x**3 + x**2 - 2*x + 1)\n",
    "solve(resultant(a(x),b(x+h),x),h)"
   ]
  },
  {
   "cell_type": "markdown",
   "metadata": {},
   "source": [
    "### Ejemplo 2"
   ]
  },
  {
   "cell_type": "code",
   "execution_count": 16,
   "metadata": {},
   "outputs": [
    {
     "data": {
      "text/plain": [
       "[3/5,\n",
       " Lambda(x, x**2 + x + 1),\n",
       " Lambda(x, x**4 - x**2 - x + 1),\n",
       " Lambda(x, (x - 8)*(x - 7)*(x - 6)**2*(x - 5)**2*(x - 4))]"
      ]
     },
     "execution_count": 16,
     "metadata": {},
     "output_type": "execute_result"
    }
   ],
   "source": [
    "p = 3*x**5 - 15*x**4 + 33*x**2 + 51*x + 36\n",
    "q = 5*x**7 - 65*x**6 + 165*x**5 + 300*x**4 - 100*x**3 - 475*x**2 - 70*x + 240\n",
    "gosper(p,q)"
   ]
  },
  {
   "cell_type": "markdown",
   "metadata": {},
   "source": [
    "Pasamos a hacer la comprobación pertinente:"
   ]
  },
  {
   "cell_type": "code",
   "execution_count": 17,
   "metadata": {},
   "outputs": [
    {
     "data": {
      "text/plain": [
       "[3/2 - sqrt(3)*I/2,\n",
       " 3/2 + sqrt(3)*I/2,\n",
       " CRootOf(h**6 - h**5 + 2*h**4 - 3*h**3 + 3*h**2 + 4*h + 1, 0),\n",
       " CRootOf(h**6 - h**5 + 2*h**4 - 3*h**3 + 3*h**2 + 4*h + 1, 1),\n",
       " CRootOf(h**6 - h**5 + 2*h**4 - 3*h**3 + 3*h**2 + 4*h + 1, 2),\n",
       " CRootOf(h**6 - h**5 + 2*h**4 - 3*h**3 + 3*h**2 + 4*h + 1, 3),\n",
       " CRootOf(h**6 - h**5 + 2*h**4 - 3*h**3 + 3*h**2 + 4*h + 1, 4),\n",
       " CRootOf(h**6 - h**5 + 2*h**4 - 3*h**3 + 3*h**2 + 4*h + 1, 5)]"
      ]
     },
     "execution_count": 17,
     "metadata": {},
     "output_type": "execute_result"
    }
   ],
   "source": [
    "a = Lambda((x), x**2 + x + 1)\n",
    "b = Lambda((x), x**4 - x**2 - x + 1)\n",
    "solve(resultant(a(x),b(x+h),x),h)"
   ]
  },
  {
   "cell_type": "markdown",
   "metadata": {},
   "source": [
    "### Ejemplo 3"
   ]
  },
  {
   "cell_type": "code",
   "execution_count": 18,
   "metadata": {},
   "outputs": [
    {
     "data": {
      "text/plain": [
       "[7/2,\n",
       " Lambda(x, x**4 - 12*x**3 + 26*x**2 + 53*x - 40),\n",
       " Lambda(x, x**2 + 1),\n",
       " Lambda(x, x*(x - 3)*(x - 2)**2*(x - 1))]"
      ]
     },
     "execution_count": 18,
     "metadata": {},
     "output_type": "execute_result"
    }
   ],
   "source": [
    "p = 7*x**7 - 49*x**6 - 245*x**5 + 1330*x**4 + 1813*x**3 - 2681*x**2 - 1575*x + 1400\n",
    "q = 2*x**5 - 36*x**3 + 60*x**2 - 38*x + 60\n",
    "gosper(p,q)"
   ]
  },
  {
   "cell_type": "markdown",
   "metadata": {},
   "source": [
    "Pasamos a hacer la comprobación pertinente:"
   ]
  },
  {
   "cell_type": "code",
   "execution_count": 19,
   "metadata": {},
   "outputs": [
    {
     "data": {
      "text/plain": [
       "[-8 - I,\n",
       " -8 + I,\n",
       " -5 - I,\n",
       " -5 + I,\n",
       " 1/2 - sqrt(1/4 - sqrt(5)*I),\n",
       " 1/2 + sqrt(1/4 - sqrt(5)*I),\n",
       " 1/2 - sqrt(1/4 + sqrt(5)*I),\n",
       " 1/2 + sqrt(1/4 + sqrt(5)*I)]"
      ]
     },
     "execution_count": 19,
     "metadata": {},
     "output_type": "execute_result"
    }
   ],
   "source": [
    "a = Lambda((x), x**4 - 12*x**3 + 26*x**2 + 53*x - 40)\n",
    "b = Lambda((x), x**2 + 1)\n",
    "solve(resultant(a(x),b(x+h),x),h)"
   ]
  },
  {
   "cell_type": "markdown",
   "metadata": {},
   "source": [
    "### Conclusión\n",
    "\n",
    "En ninguno de los ejemplos la resultante tiene una raíz entera no negativa."
   ]
  },
  {
   "cell_type": "code",
   "execution_count": null,
   "metadata": {},
   "outputs": [],
   "source": []
  }
 ],
 "metadata": {
  "anaconda-cloud": {},
  "kernelspec": {
   "display_name": "Python 3",
   "language": "python",
   "name": "python3"
  },
  "language_info": {
   "codemirror_mode": {
    "name": "ipython",
    "version": 3
   },
   "file_extension": ".py",
   "mimetype": "text/x-python",
   "name": "python",
   "nbconvert_exporter": "python",
   "pygments_lexer": "ipython3",
   "version": "3.5.2"
  }
 },
 "nbformat": 4,
 "nbformat_minor": 1
}
