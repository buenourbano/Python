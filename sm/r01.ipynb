{
 "cells": [
  {
   "cell_type": "markdown",
   "metadata": {},
   "source": [
    "# Software en Matemáticas\n",
    "## Jesús Bueno Urbano - 20078941X"
   ]
  },
  {
   "cell_type": "markdown",
   "metadata": {},
   "source": [
    "**Ejercicio 1**\n",
    "<br> Diseñe un proceso que simule el funcionamiento de `range` y que permita el uso de parámetro de tipo float."
   ]
  },
  {
   "cell_type": "code",
   "execution_count": 19,
   "metadata": {},
   "outputs": [],
   "source": [
    "def frange(comienzo,final,paso=0.1):\n",
    "    elemento = comienzo\n",
    "    resultado = []\n",
    "    if paso==0:\n",
    "        paso=0.1\n",
    "    else:\n",
    "        while elemento < final:\n",
    "            resultado.append(elemento)\n",
    "            elemento += paso\n",
    "    return resultado"
   ]
  },
  {
   "cell_type": "markdown",
   "metadata": {},
   "source": [
    "**Ejercicio 2**\n",
    "<br>Rediseñe la anterior función para que proporcione un generador, caso de no incluir ya esa funcionalidad."
   ]
  },
  {
   "cell_type": "code",
   "execution_count": 20,
   "metadata": {},
   "outputs": [],
   "source": [
    "def frange_improved(comienzo,final,paso=0.1):\n",
    "    elemento = comienzo\n",
    "    if paso==0:\n",
    "        paso=0.1\n",
    "    else:\n",
    "        while elemento < final:\n",
    "            yield elemento\n",
    "            elemento += paso"
   ]
  },
  {
   "cell_type": "markdown",
   "metadata": {},
   "source": [
    "**Ejercicio 3**\n",
    "<br>Diseñe un proceso que simule el funcionamiento del método `count()`."
   ]
  },
  {
   "cell_type": "code",
   "execution_count": 43,
   "metadata": {},
   "outputs": [],
   "source": [
    "def contador(lista,elemento):\n",
    "    lst=lista\n",
    "    unidad=elemento\n",
    "    resultado=0\n",
    "    for i in range(len(lst)):\n",
    "        if lst[i]==unidad:\n",
    "            resultado += 1\n",
    "    print(\"El elemento {0} aparece {1} veces.\".format(unidad,resultado))"
   ]
  },
  {
   "cell_type": "code",
   "execution_count": 44,
   "metadata": {},
   "outputs": [
    {
     "name": "stdout",
     "output_type": "stream",
     "text": [
      "El elemento a aparece 2 veces.\n"
     ]
    }
   ],
   "source": [
    "lst=['a','a',2,3,'xw','x',0,7,-1]\n",
    "contador(lst,'a')"
   ]
  },
  {
   "cell_type": "markdown",
   "metadata": {},
   "source": [
    "**Ejercicio 4**\n",
    "<br>Considere las listas `lst=['a',2,3,'xw','x',0,7,-1]` y `mst = ['ab',4,2,'x',9,2,'x',0,7]`. Haga una operación en la consola de Python que nos proporcione ordenados los índices de las entradas en la lista `lst` que aparecen como entradas en la lista `mst`."
   ]
  },
  {
   "cell_type": "code",
   "execution_count": 49,
   "metadata": {},
   "outputs": [],
   "source": [
    "lst=['a',2,3,'xw','x',0,7,-1]\n",
    "mst=['ab',4,2,'x',9,2,'x',0,7]"
   ]
  },
  {
   "cell_type": "markdown",
   "metadata": {},
   "source": [
    "* Esta función toma una lista homogénea y la ordena sin repetir ningún elemento."
   ]
  },
  {
   "cell_type": "code",
   "execution_count": 36,
   "metadata": {},
   "outputs": [],
   "source": [
    "def OrdenarSinRepeticion(lista):\n",
    "    lista=list(set(lista))\n",
    "    lista.sort()\n",
    "    return(lista)"
   ]
  },
  {
   "cell_type": "markdown",
   "metadata": {},
   "source": [
    "* Ahora definimos una función que nos crea una lista de los indices de las entradas de lista1 que aparecen en la lista2 y nos la muestra ordenados."
   ]
  },
  {
   "cell_type": "code",
   "execution_count": 37,
   "metadata": {},
   "outputs": [],
   "source": [
    "def Indices(lista1,lista2):\n",
    "    ListaDeIndices=[]\n",
    "    for i in range(len(lista1)):\n",
    "        if lista1[i] in lista2:\n",
    "            ListaDeIndices.append(i)\n",
    "    if ListaDeIndices==[]:\n",
    "        print('No hay ningún elemento de la primera lista que esté presente en la segunda.')\n",
    "    else: \n",
    "        print(OrdenarSinRepeticion(ListaDeIndices))"
   ]
  },
  {
   "cell_type": "code",
   "execution_count": 38,
   "metadata": {
    "scrolled": true
   },
   "outputs": [
    {
     "name": "stdout",
     "output_type": "stream",
     "text": [
      "[1, 4, 5, 6]\n"
     ]
    }
   ],
   "source": [
    "Indices(lst,mst)"
   ]
  },
  {
   "cell_type": "markdown",
   "metadata": {},
   "source": [
    "**Ejercicio 5**\n",
    "<br>En una operación en la consola de Python, eliminar de una lista, digamos `lst=['a',2,3,'xw','x',0,7,-1]`, las entradas que ocurriesen al menos una vez en otra lista, digamos `mst = ['ab',4,2,'x',9,2,'x',0,7]`."
   ]
  },
  {
   "cell_type": "code",
   "execution_count": 54,
   "metadata": {},
   "outputs": [
    {
     "name": "stdout",
     "output_type": "stream",
     "text": [
      "La lista lst tras el proceso dado nos queda:  ['a', 3, 'xw', -1]\n"
     ]
    }
   ],
   "source": [
    "nlst = lst.copy()\n",
    "\n",
    "for i in range(len(lst)):\n",
    "    if lst[i] in mst:\n",
    "        nlst.remove(lst[i])\n",
    "        \n",
    "print(\"La lista lst tras el proceso dado nos queda: \", nlst)"
   ]
  },
  {
   "cell_type": "markdown",
   "metadata": {},
   "source": [
    "**Ejercicio 6**\n",
    "<br>Consiga conocer la letra del `NIF` correspondiente al `DNI` que es `42511275`."
   ]
  },
  {
   "cell_type": "code",
   "execution_count": 10,
   "metadata": {},
   "outputs": [],
   "source": [
    "def LetraDNI(n):\n",
    "    print(\"La letra del NIE {0} es {1}.\".format(n,'TRWAGMYFPDXBNJZSQVHLCKE'[n%23]))"
   ]
  },
  {
   "cell_type": "code",
   "execution_count": 11,
   "metadata": {},
   "outputs": [
    {
     "name": "stdout",
     "output_type": "stream",
     "text": [
      "La letra del NIE 42511275 es F.\n"
     ]
    }
   ],
   "source": [
    "LetraDNI(42511275)"
   ]
  },
  {
   "cell_type": "markdown",
   "metadata": {},
   "source": [
    "**Ejercicio 7**\n",
    "<br>Diseñe un proceso que permita escribir en una lista el número pi con sus cifras decimales redondeadas hasta uno, dos, ..., etc. decimales. Digamos que el último elemento de la lista tenga 30 decimales."
   ]
  },
  {
   "cell_type": "code",
   "execution_count": 15,
   "metadata": {},
   "outputs": [],
   "source": [
    "def DecimalPi(n):\n",
    "    if n > 30:\n",
    "        print(\"Lo siento, sólo se admiten números menores o igual a 30.\")\n",
    "    else:\n",
    "        print(\"Los primeros {0} decimales del número Pi son: {1}\".format(n,'3.141592653589793238462643383279'[:n+2]))"
   ]
  },
  {
   "cell_type": "code",
   "execution_count": 16,
   "metadata": {},
   "outputs": [
    {
     "name": "stdout",
     "output_type": "stream",
     "text": [
      "Los primeros 16 decimales del número Pi son: 3.1415926535897932\n"
     ]
    }
   ],
   "source": [
    "DecimalPi(16)"
   ]
  },
  {
   "cell_type": "markdown",
   "metadata": {},
   "source": [
    "**Ejercicio 8**\n",
    "<br>Diseñe un proceso mediante el cual termine totalmente desempaquetada una lista con listas anidadas hasta varios niveles."
   ]
  },
  {
   "cell_type": "code",
   "execution_count": 1,
   "metadata": {},
   "outputs": [],
   "source": [
    "def desempaquetar(lst):\n",
    "    lst = list(lst)\n",
    "    for i, _ in enumerate(lst):\n",
    "        while (hasattr(lst[i], \"__iter__\") and not isinstance(lst[i], str)):\n",
    "            lst[i:i+1] = lst[i]\n",
    "    return lst"
   ]
  },
  {
   "cell_type": "code",
   "execution_count": 2,
   "metadata": {},
   "outputs": [],
   "source": [
    "lista = [0, ['a', 'b', 'c'], 1, ['A', ('aA', 'bB', 'cC'), 'B'], 2]"
   ]
  },
  {
   "cell_type": "code",
   "execution_count": 3,
   "metadata": {},
   "outputs": [
    {
     "data": {
      "text/plain": [
       "[0, 'a', 'b', 'c', 1, 'A', 'aA', 'bB', 'cC', 'B', 2]"
      ]
     },
     "execution_count": 3,
     "metadata": {},
     "output_type": "execute_result"
    }
   ],
   "source": [
    "desempaquetar(lista)"
   ]
  },
  {
   "cell_type": "code",
   "execution_count": 4,
   "metadata": {},
   "outputs": [
    {
     "data": {
      "text/plain": [
       "[0, ['a', 'b', 'c'], 1, ['A', ('aA', 'bB', 'cC'), 'B'], 2]"
      ]
     },
     "execution_count": 4,
     "metadata": {},
     "output_type": "execute_result"
    }
   ],
   "source": [
    "lista"
   ]
  },
  {
   "cell_type": "markdown",
   "metadata": {},
   "source": [
    "**Ejercicio 9**\n",
    "<br>Diseñe un procedimiento que produzca la lista de los primos mayores que 3 y menores que 25."
   ]
  },
  {
   "cell_type": "code",
   "execution_count": 52,
   "metadata": {},
   "outputs": [],
   "source": [
    "from math import *\n",
    "def isprime(a):\n",
    "    return all(a % i for i in range(2, int(math.sqrt(a))+1))"
   ]
  },
  {
   "cell_type": "code",
   "execution_count": 57,
   "metadata": {},
   "outputs": [
    {
     "data": {
      "text/plain": [
       "[3, 5, 7, 11, 13, 17, 19, 23]"
      ]
     },
     "execution_count": 57,
     "metadata": {},
     "output_type": "execute_result"
    }
   ],
   "source": [
    "primos = []\n",
    "for i in range(3,26):\n",
    "    if isprime(i):\n",
    "        primos.append(i)\n",
    "primos"
   ]
  },
  {
   "cell_type": "markdown",
   "metadata": {},
   "source": [
    "**Ejercicio 10**\n",
    "<br>Modifique el diseño anterior de forma que lo producido sea un generador en lugar de una lista."
   ]
  },
  {
   "cell_type": "code",
   "execution_count": 63,
   "metadata": {},
   "outputs": [],
   "source": [
    "def primos(n):\n",
    "    for i in range(1,n+1):\n",
    "        if isprime(i):\n",
    "            yield i"
   ]
  },
  {
   "cell_type": "code",
   "execution_count": 81,
   "metadata": {},
   "outputs": [],
   "source": [
    "primos_generados = primos(25)"
   ]
  },
  {
   "cell_type": "markdown",
   "metadata": {},
   "source": [
    "**Ejercicio 11**\n",
    "<br>Hacer un contador de frecuencias de caractéres en un string (texto) basado en diccionarios."
   ]
  },
  {
   "cell_type": "code",
   "execution_count": 50,
   "metadata": {},
   "outputs": [],
   "source": [
    "def contador_str(string):\n",
    "    diccio = dict.fromkeys(string,0)\n",
    "    for x in string:\n",
    "        diccio[x] = diccio[x] + 1\n",
    "    return diccio"
   ]
  },
  {
   "cell_type": "code",
   "execution_count": 52,
   "metadata": {},
   "outputs": [],
   "source": [
    "dic = contador_str('rfnowrnornofrwouwrofnuobfiubw')"
   ]
  },
  {
   "cell_type": "code",
   "execution_count": 54,
   "metadata": {},
   "outputs": [
    {
     "data": {
      "text/plain": [
       "5"
      ]
     },
     "execution_count": 54,
     "metadata": {},
     "output_type": "execute_result"
    }
   ],
   "source": [
    "dic['r']"
   ]
  },
  {
   "cell_type": "markdown",
   "metadata": {},
   "source": [
    "**Ejercicio 12**\n",
    "<br>Usar lo conocido sobre diccionarios para suprimir las repeticiones de una lista. Generar a partir de la lista resultado, llamémosla mst, otra que esté ordenada, pero conservando mst. ¿Cuál es el significado de lo hecho?"
   ]
  },
  {
   "cell_type": "code",
   "execution_count": 37,
   "metadata": {},
   "outputs": [],
   "source": [
    "from collections import OrderedDict\n",
    "\n",
    "def quitarepeticiones(lst):\n",
    "    #Esta función no funciona con listas anidadas\n",
    "    #Si quisieramos trabajar con ellas primero tendríamos que desempaquetarlas con la orden \"desempaquetar(lst)\"\n",
    "    return list(OrderedDict.fromkeys(lst).keys())\n"
   ]
  },
  {
   "cell_type": "code",
   "execution_count": 40,
   "metadata": {},
   "outputs": [],
   "source": [
    "r=[64,9,93,8,8,64,1,4]"
   ]
  },
  {
   "cell_type": "code",
   "execution_count": 41,
   "metadata": {},
   "outputs": [
    {
     "data": {
      "text/plain": [
       "[64, 9, 93, 8, 1, 4]"
      ]
     },
     "execution_count": 41,
     "metadata": {},
     "output_type": "execute_result"
    }
   ],
   "source": [
    "quitarepeticiones(r)"
   ]
  },
  {
   "cell_type": "code",
   "execution_count": 44,
   "metadata": {},
   "outputs": [
    {
     "data": {
      "text/plain": [
       "[64, 9, 93, 8, 8, 64, 1, 4]"
      ]
     },
     "execution_count": 44,
     "metadata": {},
     "output_type": "execute_result"
    }
   ],
   "source": [
    "r"
   ]
  },
  {
   "cell_type": "markdown",
   "metadata": {},
   "source": [
    "**Ejercicio 13**\n",
    "<br>Diseñe un proceso que sea capaz de ordenar una lista homogénea eliminando las repeticiones."
   ]
  },
  {
   "cell_type": "code",
   "execution_count": 45,
   "metadata": {},
   "outputs": [],
   "source": [
    "def ordenarsinrepetir(lst):\n",
    "    return sorted(quitarepeticiones(lst))"
   ]
  },
  {
   "cell_type": "code",
   "execution_count": 56,
   "metadata": {},
   "outputs": [
    {
     "data": {
      "text/plain": [
       "[1, 4, 8, 9, 64, 93]"
      ]
     },
     "execution_count": 56,
     "metadata": {},
     "output_type": "execute_result"
    }
   ],
   "source": [
    "ordenarsinrepetir(r)"
   ]
  },
  {
   "cell_type": "code",
   "execution_count": 47,
   "metadata": {},
   "outputs": [
    {
     "data": {
      "text/plain": [
       "[64, 9, 93, 8, 8, 64, 1, 4]"
      ]
     },
     "execution_count": 47,
     "metadata": {},
     "output_type": "execute_result"
    }
   ],
   "source": [
    "r"
   ]
  }
 ],
 "metadata": {
  "kernelspec": {
   "display_name": "Python 3",
   "language": "python",
   "name": "python3"
  },
  "language_info": {
   "codemirror_mode": {
    "name": "ipython",
    "version": 3
   },
   "file_extension": ".py",
   "mimetype": "text/x-python",
   "name": "python",
   "nbconvert_exporter": "python",
   "pygments_lexer": "ipython3",
   "version": "3.5.2"
  }
 },
 "nbformat": 4,
 "nbformat_minor": 2
}
